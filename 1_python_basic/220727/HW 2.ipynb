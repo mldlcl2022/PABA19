{
 "cells": [
  {
   "cell_type": "code",
   "execution_count": 1,
   "id": "8d7a3dd8",
   "metadata": {},
   "outputs": [
    {
     "name": "stdout",
     "output_type": "stream",
     "text": [
      "Enter a number : 14\n",
      "14 is Even number\n"
     ]
    }
   ],
   "source": [
    "# 1. 조건문 문제1\n",
    "\n",
    "number = int(input(\"Enter a number : \"))\n",
    "\n",
    "if number%2 == 0 :\n",
    "    print(\"%d is Even number\" %number)\n",
    "else : \n",
    "    print(\"%d is Odd number\" %number)"
   ]
  },
  {
   "cell_type": "code",
   "execution_count": 2,
   "id": "b40194b4",
   "metadata": {},
   "outputs": [
    {
     "name": "stdout",
     "output_type": "stream",
     "text": [
      "중간 점수 입력 : 77\n",
      "기말 점수 입력 : 56\n",
      "Average : 66.5\n",
      "Grade : D\n"
     ]
    }
   ],
   "source": [
    "# 1. 조건문 문제2\n",
    "\n",
    "mid = int(input(\"중간 점수 입력 : \"))\n",
    "fin = int(input(\"기말 점수 입력 : \"))\n",
    "\n",
    "avg = (mid + fin)/2\n",
    "\n",
    "if avg >= 90 :\n",
    "    grade = 'A'\n",
    "elif avg >= 80 :\n",
    "    grade = 'B'\n",
    "elif avg >= 70 :\n",
    "    grade = 'C'\n",
    "elif avg >= 60 :\n",
    "    grade = 'D'\n",
    "else :\n",
    "    grade = 'F'\n",
    "    \n",
    "print(\"Average : %.1f\" % avg)\n",
    "print(\"Grade : %s\" % grade)"
   ]
  },
  {
   "cell_type": "code",
   "execution_count": 3,
   "id": "eb3eb717",
   "metadata": {},
   "outputs": [
    {
     "name": "stdout",
     "output_type": "stream",
     "text": [
      "영어 점수 입력 : 30\n",
      "수학 점수 입력 : 50\n",
      "총합 점수 부족\n"
     ]
    }
   ],
   "source": [
    "# 1. 조건문 문제3 : 조건문 - 실습1(수업 중)\n",
    "\n",
    "eng = int(input(\"영어 점수 입력 : \"))\n",
    "math = int(input(\"수학 점수 입력 : \"))\n",
    "sum = eng + math\n",
    "\n",
    "if sum >= 110 :\n",
    "    if eng >= 40 :\n",
    "        if math >= 40 :\n",
    "            print(\"합격\")\n",
    "        else : \n",
    "            print(\"수학 점수 부족\")\n",
    "    else : \n",
    "        print(\"영어 점수 부족\")\n",
    "else :\n",
    "    print(\"총합 점수 부족\")"
   ]
  },
  {
   "cell_type": "code",
   "execution_count": 5,
   "id": "3e55805a",
   "metadata": {},
   "outputs": [
    {
     "name": "stdout",
     "output_type": "stream",
     "text": [
      "영어 점수 입력 : 90\n",
      "수학 점수 입력 : 30\n",
      "수학 점수 부족\n"
     ]
    }
   ],
   "source": [
    "# 1. 조건문 조건문 - 실습1(수업 중 답안)\n",
    "\n",
    "eng = int(input(\"영어 점수 입력 : \"))\n",
    "math = int(input(\"수학 점수 입력 : \"))\n",
    "\n",
    "if (eng + math) < 110 :\n",
    "    print(\"총합 점수 부족\")\n",
    "elif math < 40 :\n",
    "    print(\"수학 점수 부족\")\n",
    "elif eng < 40 :\n",
    "    print(\"영어 점수 부족\")\n",
    "else :\n",
    "    print(\"합격\")"
   ]
  },
  {
   "cell_type": "code",
   "execution_count": 6,
   "id": "6ccdd751",
   "metadata": {},
   "outputs": [
    {
     "name": "stdout",
     "output_type": "stream",
     "text": [
      "영어 점수 입력 : 90\n",
      "수학 점수 입력 : 30\n",
      "수학 점수 부족\n"
     ]
    }
   ],
   "source": [
    "# 1. 조건문 조건문 - 실습1(복습)\n",
    "\n",
    "eng = int(input(\"영어 점수 입력 : \"))\n",
    "math = int(input(\"수학 점수 입력 : \"))\n",
    "\n",
    "if (eng + math) < 110 :\n",
    "    print(\"총합 점수 부족\")\n",
    "elif eng < 40 :\n",
    "    print(\"영어 점수 부족\")\n",
    "elif math < 40 :\n",
    "    print(\"수학 점수 부족\")\n",
    "else : \n",
    "    print(\"합격\")"
   ]
  },
  {
   "cell_type": "code",
   "execution_count": 7,
   "id": "8781a378",
   "metadata": {},
   "outputs": [
    {
     "name": "stdout",
     "output_type": "stream",
     "text": [
      "세 개의 수를 입력하시오 : 30 22 50\n",
      "50\n"
     ]
    }
   ],
   "source": [
    "# 1. 조건문 문제4 : 조건문 - 실습2(수업 중)\n",
    "\n",
    "numbers = input(\"세 개의 수를 입력하시오 : \")\n",
    "\n",
    "a, b, c = map(int, numbers.split(\" \"))\n",
    "\n",
    "if a > b :\n",
    "    if a > c :\n",
    "        print(a)\n",
    "    else :\n",
    "        print(c)\n",
    "else : \n",
    "    print(b)"
   ]
  },
  {
   "cell_type": "code",
   "execution_count": 8,
   "id": "50daf547",
   "metadata": {},
   "outputs": [
    {
     "name": "stdout",
     "output_type": "stream",
     "text": [
      "세 개의 수를 입력하시오 : 30 22 50\n",
      "50\n"
     ]
    }
   ],
   "source": [
    "# 1. 조건문 문제4 : 조건문 - 실습2(수업 중 답안)\n",
    "\n",
    "a, b, c = input(\"세 개의 수를 입력하시오 : \").split()\n",
    "a, b, c = int(a), int(b), int(c)\n",
    "\n",
    "max_value = a\n",
    "\n",
    "if a > b :\n",
    "    if a > c :\n",
    "        max_value = a\n",
    "    else : \n",
    "        max_value = c\n",
    "elif b < c :\n",
    "    max_value = c\n",
    "else :\n",
    "    max_value = b\n",
    "\n",
    "print(\"%d\" % max_value)"
   ]
  },
  {
   "cell_type": "code",
   "execution_count": 9,
   "id": "18197026",
   "metadata": {},
   "outputs": [
    {
     "name": "stdout",
     "output_type": "stream",
     "text": [
      "세 개의 수를 입력하시오 : 30 22 50\n",
      "50\n"
     ]
    }
   ],
   "source": [
    "# 1. 조건문 문제4 : 조건문 - 실습2(복습)\n",
    "\n",
    "a, b, c = input(\"세 개의 수를 입력하시오 : \").split()\n",
    "a, b, c = int(a), int(b), int(c)\n",
    "\n",
    "valuemax = a\n",
    "\n",
    "if a > b :\n",
    "    if a > c :\n",
    "        valuemax = a\n",
    "    else : \n",
    "        valuemax = c\n",
    "elif b < c :\n",
    "    valuemax = c\n",
    "else :\n",
    "    valuemax = b\n",
    "    \n",
    "print(\"%d\" % valuemax)"
   ]
  },
  {
   "cell_type": "code",
   "execution_count": 10,
   "id": "fe98bd1a",
   "metadata": {},
   "outputs": [
    {
     "name": "stdout",
     "output_type": "stream",
     "text": [
      "P\n",
      "y\n",
      "t\n",
      "h\n",
      "o\n",
      "n\n"
     ]
    }
   ],
   "source": [
    "# 2. 반복문 문제1 (1)\n",
    "\n",
    "word = 'Python'\n",
    "a = 0\n",
    "\n",
    "while a < int(len(word)) :\n",
    "    print(word[a])\n",
    "    a += 1"
   ]
  },
  {
   "cell_type": "code",
   "execution_count": 11,
   "id": "8246f5ab",
   "metadata": {},
   "outputs": [
    {
     "name": "stdout",
     "output_type": "stream",
     "text": [
      "P\n",
      "y\n",
      "t\n",
      "h\n",
      "o\n",
      "n\n"
     ]
    }
   ],
   "source": [
    "# 2. 반복문 문제1 (2)\n",
    "\n",
    "word = 'Python'\n",
    "\n",
    "for i in word :\n",
    "    print(i)"
   ]
  },
  {
   "cell_type": "code",
   "execution_count": 12,
   "id": "e34069b4",
   "metadata": {},
   "outputs": [
    {
     "name": "stdout",
     "output_type": "stream",
     "text": [
      "10\n",
      "9\n",
      "8\n",
      "7\n",
      "6\n",
      "5\n",
      "4\n",
      "3\n",
      "2\n",
      "1\n",
      "Happy new year!!\n"
     ]
    }
   ],
   "source": [
    "# 2. 반복문 문제2\n",
    "\n",
    "i = 10\n",
    "while i > 0 :\n",
    "    print(i)\n",
    "    i -= 1\n",
    "\n",
    "print(\"Happy new year!!\")"
   ]
  },
  {
   "cell_type": "code",
   "execution_count": 13,
   "id": "3e141dea",
   "metadata": {},
   "outputs": [
    {
     "name": "stdout",
     "output_type": "stream",
     "text": [
      "Enter two integers : 5 10\n",
      "The sum from 5 to 10 is 45\n"
     ]
    }
   ],
   "source": [
    "# 2. 반복문 문제3\n",
    "\n",
    "nums = input(\"Enter two integers : \")\n",
    "a, b = map(int, nums.split(' '))\n",
    "\n",
    "absum = 0\n",
    "for i in range(a, b + 1, 1) :\n",
    "    absum += i\n",
    "    \n",
    "print(\"The sum from %d to %d is %d\" % (a, b, absum))"
   ]
  },
  {
   "cell_type": "code",
   "execution_count": 14,
   "id": "c58cdb07",
   "metadata": {},
   "outputs": [
    {
     "name": "stdout",
     "output_type": "stream",
     "text": [
      "3\n"
     ]
    }
   ],
   "source": [
    "# 2. 반복문 문제4\n",
    "\n",
    "word = 'banana'\n",
    "\n",
    "sum = 0\n",
    "for i in range(0, int(len(word)),1) :\n",
    "    if word[i] == 'a' :\n",
    "        sum += 1\n",
    "    else :\n",
    "        continue\n",
    "\n",
    "print(sum)"
   ]
  },
  {
   "cell_type": "code",
   "execution_count": 15,
   "id": "bb691ae9",
   "metadata": {},
   "outputs": [
    {
     "name": "stdout",
     "output_type": "stream",
     "text": [
      "0 1 2 3 4 5 6 7 8 9 \n",
      "\n",
      "0 5 10 15 20 25 30 35 40 45 50 \n",
      "\n",
      "10 9 8 7 6 5 4 3 2 1 "
     ]
    }
   ],
   "source": [
    "# 2. 반복문 문제 5\n",
    "\n",
    "for i in range(0,10,1) :\n",
    "    print(\"%d \" % i, end = '')\n",
    "print('\\n')\n",
    "\n",
    "for j in range(0,51,5) :\n",
    "    print(\"%d \" % j, end = '')\n",
    "print('\\n')\n",
    "\n",
    "for k in range(10,0,-1) :\n",
    "    print(\"%d \" % k, end = '')"
   ]
  },
  {
   "cell_type": "code",
   "execution_count": 16,
   "id": "5d341192",
   "metadata": {},
   "outputs": [
    {
     "name": "stdout",
     "output_type": "stream",
     "text": [
      "red\n",
      "\n",
      "\n",
      "green\n",
      "\n",
      "\n",
      "blue\n",
      "\n",
      "\n"
     ]
    }
   ],
   "source": [
    "# 2. 반복문 문제6\n",
    "\n",
    "colors = ['red','green','blue']\n",
    "\n",
    "for i in colors :\n",
    "    print(i)\n",
    "    print('\\n')"
   ]
  },
  {
   "cell_type": "code",
   "execution_count": 17,
   "id": "d2b9b189",
   "metadata": {},
   "outputs": [
    {
     "name": "stdout",
     "output_type": "stream",
     "text": [
      "4\n",
      "6\n",
      "8\n",
      "10\n",
      "12\n"
     ]
    }
   ],
   "source": [
    "# 2. 반복문 문제7\n",
    "\n",
    "a = [1,3,4,5,5,6,7,8,9,10,11,12,13]\n",
    "\n",
    "for i in a :\n",
    "    if i % 2 == 0 :\n",
    "        print(i)\n",
    "    else : \n",
    "        continue"
   ]
  },
  {
   "cell_type": "code",
   "execution_count": 18,
   "id": "7342b55c",
   "metadata": {},
   "outputs": [
    {
     "name": "stdout",
     "output_type": "stream",
     "text": [
      "출력하고 싶은 단을 입력하세요 : 7\n",
      "7 * 1 = 7\n",
      "7 * 2 = 14\n",
      "7 * 3 = 21\n",
      "7 * 4 = 28\n",
      "7 * 5 = 35\n",
      "7 * 6 = 42\n",
      "7 * 7 = 49\n",
      "7 * 8 = 56\n",
      "7 * 9 = 63\n"
     ]
    }
   ],
   "source": [
    "# 2. 반복문 문제8 : 반복문 - 실습1(수업 중)\n",
    "\n",
    "dan = int(input(\"출력하고 싶은 단을 입력하세요 : \"))\n",
    "\n",
    "for i in range(1,10,1) :\n",
    "    print(\"%d * %d = %d\" %(dan, i,(dan*i)))"
   ]
  },
  {
   "cell_type": "code",
   "execution_count": 19,
   "id": "d6c6df72",
   "metadata": {},
   "outputs": [
    {
     "name": "stdout",
     "output_type": "stream",
     "text": [
      "출력하고 싶은 단을 입력하세요 : 7\n",
      "7 * 1 = 7\n",
      "7 * 2 = 14\n",
      "7 * 3 = 21\n",
      "7 * 4 = 28\n",
      "7 * 5 = 35\n",
      "7 * 6 = 42\n",
      "7 * 7 = 49\n",
      "7 * 8 = 56\n",
      "7 * 9 = 63\n"
     ]
    }
   ],
   "source": [
    "# 2. 반복문 문제8 : 반복문 - 실습1(수업 중 답안)\n",
    "\n",
    "num = int(input(\"출력하고 싶은 단을 입력하세요 : \"))\n",
    "\n",
    "for x in range(1,10,1) :\n",
    "    print(\"%d * %d = %d\" % (num,x,num*x))\n",
    "    "
   ]
  },
  {
   "cell_type": "code",
   "execution_count": 70,
   "id": "69def9ae",
   "metadata": {},
   "outputs": [
    {
     "name": "stdout",
     "output_type": "stream",
     "text": [
      "== 2 단==\n",
      "2 * 1 = 2\n",
      "2 * 2 = 4\n",
      "2 * 3 = 6\n",
      "2 * 4 = 8\n",
      "2 * 5 = 10\n",
      "2 * 6 = 12\n",
      "2 * 7 = 14\n",
      "2 * 8 = 16\n",
      "2 * 9 = 18\n",
      "== 3 단==\n",
      "3 * 1 = 3\n",
      "3 * 2 = 6\n",
      "3 * 3 = 9\n",
      "3 * 4 = 12\n",
      "3 * 5 = 15\n",
      "3 * 6 = 18\n",
      "3 * 7 = 21\n",
      "3 * 8 = 24\n",
      "3 * 9 = 27\n",
      "== 4 단==\n",
      "4 * 1 = 4\n",
      "4 * 2 = 8\n",
      "4 * 3 = 12\n",
      "4 * 4 = 16\n",
      "4 * 5 = 20\n",
      "4 * 6 = 24\n",
      "4 * 7 = 28\n",
      "4 * 8 = 32\n",
      "4 * 9 = 36\n",
      "== 5 단==\n",
      "5 * 1 = 5\n",
      "5 * 2 = 10\n",
      "5 * 3 = 15\n",
      "5 * 4 = 20\n",
      "5 * 5 = 25\n",
      "5 * 6 = 30\n",
      "5 * 7 = 35\n",
      "5 * 8 = 40\n",
      "5 * 9 = 45\n",
      "== 6 단==\n",
      "6 * 1 = 6\n",
      "6 * 2 = 12\n",
      "6 * 3 = 18\n",
      "6 * 4 = 24\n",
      "6 * 5 = 30\n",
      "6 * 6 = 36\n",
      "6 * 7 = 42\n",
      "6 * 8 = 48\n",
      "6 * 9 = 54\n",
      "== 7 단==\n",
      "7 * 1 = 7\n",
      "7 * 2 = 14\n",
      "7 * 3 = 21\n",
      "7 * 4 = 28\n",
      "7 * 5 = 35\n",
      "7 * 6 = 42\n",
      "7 * 7 = 49\n",
      "7 * 8 = 56\n",
      "7 * 9 = 63\n",
      "== 8 단==\n",
      "8 * 1 = 8\n",
      "8 * 2 = 16\n",
      "8 * 3 = 24\n",
      "8 * 4 = 32\n",
      "8 * 5 = 40\n",
      "8 * 6 = 48\n",
      "8 * 7 = 56\n",
      "8 * 8 = 64\n",
      "8 * 9 = 72\n",
      "== 9 단==\n",
      "9 * 1 = 9\n",
      "9 * 2 = 18\n",
      "9 * 3 = 27\n",
      "9 * 4 = 36\n",
      "9 * 5 = 45\n",
      "9 * 6 = 54\n",
      "9 * 7 = 63\n",
      "9 * 8 = 72\n",
      "9 * 9 = 81\n"
     ]
    }
   ],
   "source": [
    "# 2. 반복문 문제9\n",
    "\n",
    "for i in range(2, 10, 1) :\n",
    "    print(\"== %d 단==\" % (i))\n",
    "    for j in range(1,10,1) :\n",
    "        print(\"%d * %d = %d\" %(i,j,i*j))\n",
    "        "
   ]
  },
  {
   "cell_type": "code",
   "execution_count": 92,
   "id": "58e262f0",
   "metadata": {},
   "outputs": [
    {
     "name": "stdout",
     "output_type": "stream",
     "text": [
      "2 * 1 =  2\t3 * 1 =  3\t4 * 1 =  4\t5 * 1 =  5\t6 * 1 =  6\t7 * 1 =  7\t8 * 1 =  8\t9 * 1 =  9\t\n",
      "\n",
      "2 * 2 =  4\t3 * 2 =  6\t4 * 2 =  8\t5 * 2 = 10\t6 * 2 = 12\t7 * 2 = 14\t8 * 2 = 16\t9 * 2 = 18\t\n",
      "\n",
      "2 * 3 =  6\t3 * 3 =  9\t4 * 3 = 12\t5 * 3 = 15\t6 * 3 = 18\t7 * 3 = 21\t8 * 3 = 24\t9 * 3 = 27\t\n",
      "\n",
      "2 * 4 =  8\t3 * 4 = 12\t4 * 4 = 16\t5 * 4 = 20\t6 * 4 = 24\t7 * 4 = 28\t8 * 4 = 32\t9 * 4 = 36\t\n",
      "\n",
      "2 * 5 = 10\t3 * 5 = 15\t4 * 5 = 20\t5 * 5 = 25\t6 * 5 = 30\t7 * 5 = 35\t8 * 5 = 40\t9 * 5 = 45\t\n",
      "\n",
      "2 * 6 = 12\t3 * 6 = 18\t4 * 6 = 24\t5 * 6 = 30\t6 * 6 = 36\t7 * 6 = 42\t8 * 6 = 48\t9 * 6 = 54\t\n",
      "\n",
      "2 * 7 = 14\t3 * 7 = 21\t4 * 7 = 28\t5 * 7 = 35\t6 * 7 = 42\t7 * 7 = 49\t8 * 7 = 56\t9 * 7 = 63\t\n",
      "\n",
      "2 * 8 = 16\t3 * 8 = 24\t4 * 8 = 32\t5 * 8 = 40\t6 * 8 = 48\t7 * 8 = 56\t8 * 8 = 64\t9 * 8 = 72\t\n",
      "\n",
      "2 * 9 = 18\t3 * 9 = 27\t4 * 9 = 36\t5 * 9 = 45\t6 * 9 = 54\t7 * 9 = 63\t8 * 9 = 72\t9 * 9 = 81\t\n",
      "\n"
     ]
    }
   ],
   "source": [
    "# 2. 반복문 문제10\n",
    "\n",
    "for i in range(1,10,1) :\n",
    "    for j in range(2,10,1) :\n",
    "        print(\"%d * %d = %2d\\t\" % (j,i,j*i),end='')\n",
    "    print('\\n')"
   ]
  },
  {
   "cell_type": "code",
   "execution_count": 5,
   "id": "27cf360a",
   "metadata": {},
   "outputs": [
    {
     "name": "stdout",
     "output_type": "stream",
     "text": [
      "Input an integer : 3159\n",
      "★★★\n",
      "★\n",
      "★★★★★\n",
      "★★★★★★★★★\n"
     ]
    }
   ],
   "source": [
    "# 2. 반복문 문제11 : 반복문 - 실습2(수업 중)\n",
    "\n",
    "star = input(\"Input an integer : \")\n",
    "\n",
    "for i in range(0,int(len(star)),1) : \n",
    "    for j in range(0,int(star[i]),1) :\n",
    "        print(\"★\", end = '')\n",
    "    print(\"\")"
   ]
  },
  {
   "cell_type": "code",
   "execution_count": 4,
   "id": "af686449",
   "metadata": {},
   "outputs": [
    {
     "name": "stdout",
     "output_type": "stream",
     "text": [
      "Input an integer : 3159\n",
      "★★★\n",
      "★\n",
      "★★★★★\n",
      "★★★★★★★★★\n"
     ]
    }
   ],
   "source": [
    "# 2. 반복문 문제11 : 반복문 - 실습2(수업 중 답안) : 문제를 보는 방식이 중요하다(큰 것과 작은 것)\n",
    "# 작은 것부터 올라가며 코딩\n",
    "number = input(\"Input an integer : \")\n",
    "\n",
    "for x in number :\n",
    "    x = int(x)\n",
    "    for i in range(x) :\n",
    "        print(\"★\", end = '')\n",
    "    print('')"
   ]
  },
  {
   "cell_type": "code",
   "execution_count": 6,
   "id": "92a2830c",
   "metadata": {},
   "outputs": [
    {
     "name": "stdout",
     "output_type": "stream",
     "text": [
      "Input an integer : 3159\n",
      "★★★\n",
      "★\n",
      "★★★★★\n",
      "★★★★★★★★★\n"
     ]
    }
   ],
   "source": [
    "# 2. 반복문 문제11 : 반복문 - 실습2(수업 중 답안) : 문제를 보는 방식이 중요하다(큰 것과 작은 것)\n",
    "# 큰 것부터 나눠가며 코딩\n",
    "number = input(\"Input an integer : \")\n",
    "\n",
    "i = 0\n",
    "while i < len(number) :\n",
    "    x = int(number[i])\n",
    "    print(\"★\"*x)\n",
    "    i += 1\n",
    "    "
   ]
  },
  {
   "cell_type": "code",
   "execution_count": 1,
   "id": "53d88fd8",
   "metadata": {},
   "outputs": [
    {
     "name": "stdout",
     "output_type": "stream",
     "text": [
      "Enter a number : 7\n",
      "Enter a number : 2\n",
      "Enter a number : 9\n",
      "Enter a number : 5\n",
      "Enter a number : 3\n",
      "Enter a number : done\n",
      "\n",
      "[7.0, 2.0, 9.0, 5.0, 3.0]\n",
      "Average : 5.2\n",
      "Maximum : 9.0\n",
      "Minimum : 2.0\n"
     ]
    }
   ],
   "source": [
    "# 2. 반복문 문제12 : 리스트 - 실습1(수업 중)\n",
    "\n",
    "numbers = []\n",
    "while True:\n",
    "    num = input(\"Enter a number : \")\n",
    "    if num == \"done\" :\n",
    "        break\n",
    "    numbers.append(float(num))\n",
    "\n",
    "\n",
    "nummax = max(numbers)\n",
    "nummin = min(numbers)\n",
    "avg = sum(numbers)/len(numbers)\n",
    "\n",
    "print('')\n",
    "print(numbers)\n",
    "print(\"Average : %.1f\" % avg)\n",
    "print(\"Maximum : %.1f\" % nummax)\n",
    "print(\"Minimum : %.1f\" % nummin)"
   ]
  },
  {
   "cell_type": "code",
   "execution_count": 4,
   "id": "9b606461",
   "metadata": {},
   "outputs": [
    {
     "name": "stdout",
     "output_type": "stream",
     "text": [
      "Enter a number : 7\n",
      "Enter a number : 2\n",
      "Enter a number : 9\n",
      "Enter a number : 3\n",
      "Enter a number : 5\n",
      "Enter a number : done\n",
      "\n",
      "[7.0, 2.0, 9.0, 3.0, 5.0]\n",
      "Average : 5.2\n",
      "Maximum : 9.0\n",
      "Minimum : 2.0\n"
     ]
    }
   ],
   "source": [
    "# 반복문 문제12 : 리스트 - 실습1(수업 중 답안)\n",
    "\n",
    "save = []\n",
    "\n",
    "while True :\n",
    "    s = input(\"Enter a number : \")\n",
    "    if s == 'done' :\n",
    "        break\n",
    "    else :\n",
    "        number = float(s)\n",
    "    save.append(number)\n",
    "\n",
    "print('')\n",
    "print(save)\n",
    "print(\"Average : %.1f\" % (sum(save)/len(save)))\n",
    "print(\"Maximum : %.1f\" % max(save))\n",
    "print(\"Minimum : %.1f\" % min(save))\n",
    "    "
   ]
  }
 ],
 "metadata": {
  "kernelspec": {
   "display_name": "Python 3 (ipykernel)",
   "language": "python",
   "name": "python3"
  },
  "language_info": {
   "codemirror_mode": {
    "name": "ipython",
    "version": 3
   },
   "file_extension": ".py",
   "mimetype": "text/x-python",
   "name": "python",
   "nbconvert_exporter": "python",
   "pygments_lexer": "ipython3",
   "version": "3.9.12"
  }
 },
 "nbformat": 4,
 "nbformat_minor": 5
}
