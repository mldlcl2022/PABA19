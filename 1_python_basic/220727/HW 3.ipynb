{
 "cells": [
  {
   "cell_type": "code",
   "execution_count": 6,
   "id": "59dde3ea",
   "metadata": {},
   "outputs": [
    {
     "name": "stdout",
     "output_type": "stream",
     "text": [
      "{75, 45, 15, 90, 60, 30}\n",
      "3과 5의 공배수 : 6 개\n"
     ]
    }
   ],
   "source": [
    "# 집합 - 실습(수업 중 풀이)\n",
    "\n",
    "s3 = set()\n",
    "for i in range(1,101,1) : \n",
    "    if i % 3 == 0 :\n",
    "        s3.add(i)\n",
    "\n",
    "s5 = set()\n",
    "for j in range(1,101,1) :\n",
    "    if j % 5 == 0 :\n",
    "        s5.add(j)\n",
    "        \n",
    "s = s3 & s5\n",
    "print(s)\n",
    "print(\"3과 5의 공배수 : %d 개\" % len(s))"
   ]
  },
  {
   "cell_type": "code",
   "execution_count": 7,
   "id": "da578103",
   "metadata": {
    "scrolled": true
   },
   "outputs": [
    {
     "name": "stdout",
     "output_type": "stream",
     "text": [
      "{75, 45, 15, 90, 60, 30}\n",
      "3과 5의 공배수 : 6 개\n"
     ]
    }
   ],
   "source": [
    "# 집합 - 실습(수업 중 답안)\n",
    "\n",
    "s3 = set()\n",
    "s5 = set()\n",
    "\n",
    "for i in range(1,101) :\n",
    "    if i % 3 == 0 :\n",
    "        s3.add(i)\n",
    "    if i % 5 == 0 :\n",
    "        s5.add(i)\n",
    "        \n",
    "s = s3 & s5\n",
    "print(s)\n",
    "print(\"3과 5의 공배수 : %d 개\" % len(s))"
   ]
  },
  {
   "cell_type": "code",
   "execution_count": 8,
   "id": "4932034a",
   "metadata": {},
   "outputs": [
    {
     "data": {
      "text/plain": [
       "dict_values([1, 2, 10])"
      ]
     },
     "execution_count": 8,
     "metadata": {},
     "output_type": "execute_result"
    }
   ],
   "source": [
    "# 문제1\n",
    "\n",
    "d = {'youn' : 1, 'park' : 2, 'kim' : 10}\n",
    "d.values()"
   ]
  },
  {
   "cell_type": "code",
   "execution_count": 9,
   "id": "1ad96479",
   "metadata": {},
   "outputs": [
    {
     "name": "stdout",
     "output_type": "stream",
     "text": [
      "('five', 5)\n",
      "('four', 4)\n",
      "('one', 1)\n",
      "('three', 3)\n",
      "('two', 2)\n"
     ]
    }
   ],
   "source": [
    "# 문제2\n",
    "\n",
    "d = {'one' : 1, 'two' : 2, 'three' : 3, 'four' : 4, 'five' : 5}\n",
    "\n",
    "d_sort = dict(sorted(d.items(), key = lambda x : x[0]))\n",
    "d_sort\n",
    "\n",
    "for i in d_sort.items() :\n",
    "    print(i)"
   ]
  },
  {
   "cell_type": "code",
   "execution_count": 10,
   "id": "2804866d",
   "metadata": {},
   "outputs": [
    {
     "data": {
      "text/plain": [
       "{'t': 1}"
      ]
     },
     "execution_count": 10,
     "metadata": {},
     "output_type": "execute_result"
    }
   ],
   "source": [
    "# 문제3 : 딕셔너리 - 실습(수업 중 풀이)\n",
    "\n",
    "sentence = \"Python is fun!\"\n",
    "s_key = set(sentence)\n",
    "s_key\n",
    "\n",
    "a = 0\n",
    "for i in s_key :\n",
    "    for j in sentence :\n",
    "        if i == j :\n",
    "            a += 1\n",
    "            d = {i : a}\n",
    "        a = 0\n",
    "        \n",
    "d"
   ]
  },
  {
   "cell_type": "code",
   "execution_count": 100,
   "id": "369c9b51",
   "metadata": {},
   "outputs": [
    {
     "name": "stdout",
     "output_type": "stream",
     "text": [
      "Enter a sentence : Python is fun!\n",
      "{'P': 1, 'y': 1, 't': 1, 'h': 1, 'o': 1, 'n': 2, ' ': 2, 'i': 1, 's': 1, 'f': 1, 'u': 1, '!': 1}\n"
     ]
    }
   ],
   "source": [
    "# 문제3 : 딕셔너리 - 실습(수업 중 답안)\n",
    "\n",
    "sent = input('Enter a sentence : ')\n",
    "d = {}\n",
    "\n",
    "for i in sent :\n",
    "    if i not in d :\n",
    "        d[i] = 1\n",
    "    else : \n",
    "        d[i] = d[i] + 1\n",
    "\n",
    "print(d)"
   ]
  },
  {
   "cell_type": "code",
   "execution_count": 77,
   "id": "d1a57ce6",
   "metadata": {},
   "outputs": [
    {
     "name": "stdout",
     "output_type": "stream",
     "text": [
      "Enter a sentence : Python is fun!\n",
      "{'P': 1, 'y': 1, 't': 1, 'h': 1, 'o': 1, 'n': 2, ' ': 2, 'i': 1, 's': 1, 'f': 1, 'u': 1, '!': 1}\n"
     ]
    }
   ],
   "source": [
    "# 문제3 : 딕셔너리 - 실습(복습)\n",
    "\n",
    "sentence = input('Enter a sentence : ')\n",
    "d = {}\n",
    "\n",
    "for i in sentence :\n",
    "    if i not in d :\n",
    "        d[i] = 1\n",
    "    else : \n",
    "        d[i] = d[i] + 1\n",
    "        \n",
    "print(d)"
   ]
  },
  {
   "cell_type": "code",
   "execution_count": 11,
   "id": "fac57686",
   "metadata": {},
   "outputs": [
    {
     "name": "stdout",
     "output_type": "stream",
     "text": [
      "Highest :  150\n",
      "Lowest :  20\n",
      "Average :  81.0\n"
     ]
    }
   ],
   "source": [
    "# 문제4\n",
    "\n",
    "score = {'iu':100, 'heize': 70, 'zico':65, 'ailee':150,'rain': 20}\n",
    "\n",
    "print(\"Highest : \", max(score.values()))\n",
    "print(\"Lowest : \", min(score.values()))\n",
    "print(\"Average : \", sum(score.values())/len((score.values())))"
   ]
  },
  {
   "cell_type": "code",
   "execution_count": 12,
   "id": "e100cc8d",
   "metadata": {},
   "outputs": [
    {
     "name": "stdout",
     "output_type": "stream",
     "text": [
      "채울 음료 이름 입력: 생수\n",
      "추가할 개수 입력 : 3\n",
      "{'커피': 5, '콜라': 3, '생수': 5, '비타민워터': 1}\n"
     ]
    }
   ],
   "source": [
    "# 문제5\n",
    "\n",
    "items = { \"커피\": 5, \"콜라\": 3, \"생수\": 2,\"비타민워터\": 1 }\n",
    "item = input(\"채울 음료 이름 입력: \")\n",
    "\n",
    "if item in items.keys() :\n",
    "    num = input(\"추가할 개수 입력 : \")\n",
    "    items[item] = items[item] + int(num)\n",
    "    print(items)\n",
    "else :\n",
    "    print(\"자판기 목록에 없는 음료입니다.\")\n",
    "        \n",
    "    "
   ]
  },
  {
   "cell_type": "code",
   "execution_count": 13,
   "id": "c63b7deb",
   "metadata": {},
   "outputs": [
    {
     "name": "stdout",
     "output_type": "stream",
     "text": [
      "수강생 이름 입력 : 호랑이\n",
      "프로그래밍 수강생이 아닙니다.\n"
     ]
    }
   ],
   "source": [
    "# 문제6\n",
    "\n",
    "Names = [\"포닉스\", \"넙죽이\", \"클로바\", \"독수리\"]\n",
    "\n",
    "studname = input(\"수강생 이름 입력 : \")\n",
    "\n",
    "if studname in Names :\n",
    "    print(\"프로그래밍 수강생입니다.\")\n",
    "else :\n",
    "    print(\"프로그래밍 수강생이 아닙니다.\")"
   ]
  }
 ],
 "metadata": {
  "kernelspec": {
   "display_name": "Python 3 (ipykernel)",
   "language": "python",
   "name": "python3"
  },
  "language_info": {
   "codemirror_mode": {
    "name": "ipython",
    "version": 3
   },
   "file_extension": ".py",
   "mimetype": "text/x-python",
   "name": "python",
   "nbconvert_exporter": "python",
   "pygments_lexer": "ipython3",
   "version": "3.9.12"
  }
 },
 "nbformat": 4,
 "nbformat_minor": 5
}
