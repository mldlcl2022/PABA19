{
 "cells": [
  {
   "cell_type": "code",
   "execution_count": 1,
   "id": "eb1446f9",
   "metadata": {},
   "outputs": [
    {
     "name": "stdout",
     "output_type": "stream",
     "text": [
      "# find\n",
      "wrong input!\n",
      "# show\n",
      "show\n",
      "[]\n",
      "# search\n",
      "searh\n",
      "# quit\n",
      "quit\n"
     ]
    }
   ],
   "source": [
    "def show_function(slist):\n",
    "    print(\"show\")\n",
    "    print(slist)\n",
    "    \n",
    "def search_function():\n",
    "    print(\"searh\")\n",
    "    \n",
    "def quit_function():\n",
    "    print(\"quit\")\n",
    "    \n",
    "    \n",
    "stu_list = list()\n",
    "\n",
    "while True:\n",
    "    command = input(\"# \")\n",
    "    if command == \"show\":\n",
    "        show_function(stu_list)\n",
    "    elif command == \"search\":\n",
    "        search_function()\n",
    "    elif command == \"quit\":\n",
    "        quit_function()\n",
    "        break\n",
    "    else:\n",
    "        print(\"wrong input!\")"
   ]
  },
  {
   "cell_type": "code",
   "execution_count": null,
   "id": "f4ab0d86",
   "metadata": {},
   "outputs": [],
   "source": []
  }
 ],
 "metadata": {
  "kernelspec": {
   "display_name": "Python 3 (ipykernel)",
   "language": "python",
   "name": "python3"
  },
  "language_info": {
   "codemirror_mode": {
    "name": "ipython",
    "version": 3
   },
   "file_extension": ".py",
   "mimetype": "text/x-python",
   "name": "python",
   "nbconvert_exporter": "python",
   "pygments_lexer": "ipython3",
   "version": "3.9.7"
  }
 },
 "nbformat": 4,
 "nbformat_minor": 5
}
