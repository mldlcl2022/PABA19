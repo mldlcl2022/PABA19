{
 "cells": [
  {
   "cell_type": "code",
   "execution_count": 65,
   "id": "9800e15f",
   "metadata": {},
   "outputs": [
    {
     "name": "stdout",
     "output_type": "stream",
     "text": [
      "화씨온도 : 100\n"
     ]
    }
   ],
   "source": [
    "# 문제 1  \n",
    "\n",
    "dgree = int(input(\"화씨온도 : \"))  "
   ]
  },
  {
   "cell_type": "code",
   "execution_count": 66,
   "id": "2a89a7c8",
   "metadata": {},
   "outputs": [],
   "source": [
    "x1 = (dgree-32)*5/9  "
   ]
  },
  {
   "cell_type": "code",
   "execution_count": 67,
   "id": "8ea8d785",
   "metadata": {},
   "outputs": [
    {
     "name": "stdout",
     "output_type": "stream",
     "text": [
      "섭씨온도 :  37.77777777777778\n"
     ]
    }
   ],
   "source": [
    "print(\"섭씨온도 : \", x1)  "
   ]
  },
  {
   "cell_type": "code",
   "execution_count": 68,
   "id": "6593e4b3",
   "metadata": {},
   "outputs": [
    {
     "name": "stdout",
     "output_type": "stream",
     "text": [
      "투입한 돈 : 5000\n",
      "물건값 : 2700\n"
     ]
    }
   ],
   "source": [
    "# 문제 2  \n",
    "\n",
    "money = int(input(\"투입한 돈 : \"))  \n",
    "price = int(input(\"물건값 : \"))  "
   ]
  },
  {
   "cell_type": "code",
   "execution_count": 69,
   "id": "59673b4d",
   "metadata": {},
   "outputs": [
    {
     "name": "stdout",
     "output_type": "stream",
     "text": [
      "거스름돈 :  2300\n",
      "500원짜리 : 4개\n",
      "100원짜리 : 3개\n"
     ]
    }
   ],
   "source": [
    "change = money - a  \n",
    "coin500 = change // 500  \n",
    "coin100 = (change % 500) // 100  \n",
    "print(\"거스름돈 : \", change)  \n",
    "print(\"500원짜리 : %d개\" % coin500)  \n",
    "print(\"100원짜리 : %d개\" % coin100)  "
   ]
  },
  {
   "cell_type": "code",
   "execution_count": 39,
   "id": "a56ec886",
   "metadata": {},
   "outputs": [
    {
     "name": "stdout",
     "output_type": "stream",
     "text": [
      "반지름을 입력하시오 : 5\n"
     ]
    }
   ],
   "source": [
    "# 문제 3  \n",
    "\n",
    "r = int(input(\"반지름을 입력하시오 : \"))  "
   ]
  },
  {
   "cell_type": "code",
   "execution_count": 44,
   "id": "0ab44047",
   "metadata": {},
   "outputs": [
    {
     "name": "stdout",
     "output_type": "stream",
     "text": [
      "원 둘레 :  31.42\n",
      "원 넓이 :  78.54\n"
     ]
    }
   ],
   "source": [
    "pi = 3.141592  \n",
    "\n",
    "r2 = 2 * pi * r  \n",
    "r3 = pi * r ** 2  \n",
    "\n",
    "print(\"원 둘레 : \", round(r2,2))  \n",
    "print(\"원 넓이 : \", round(r3,2))  "
   ]
  },
  {
   "cell_type": "code",
   "execution_count": 45,
   "id": "ee54c051",
   "metadata": {},
   "outputs": [],
   "source": [
    "# 2. 따라 해보기  \n",
    "\n",
    "# range(start, stop, step)"
   ]
  },
  {
   "cell_type": "code",
   "execution_count": 46,
   "id": "b6207125",
   "metadata": {},
   "outputs": [
    {
     "data": {
      "text/plain": [
       "range(0, 5)"
      ]
     },
     "execution_count": 46,
     "metadata": {},
     "output_type": "execute_result"
    }
   ],
   "source": [
    "range(5)  "
   ]
  },
  {
   "cell_type": "code",
   "execution_count": 47,
   "id": "5b49be3f",
   "metadata": {},
   "outputs": [
    {
     "data": {
      "text/plain": [
       "range(1, 6)"
      ]
     },
     "execution_count": 47,
     "metadata": {},
     "output_type": "execute_result"
    }
   ],
   "source": [
    "range(1, 6)"
   ]
  },
  {
   "cell_type": "code",
   "execution_count": 48,
   "id": "a00e9bf5",
   "metadata": {},
   "outputs": [
    {
     "data": {
      "text/plain": [
       "range(1, 7, 2)"
      ]
     },
     "execution_count": 48,
     "metadata": {},
     "output_type": "execute_result"
    }
   ],
   "source": [
    "range(1, 7, 2)"
   ]
  },
  {
   "cell_type": "code",
   "execution_count": 49,
   "id": "09dea480",
   "metadata": {},
   "outputs": [
    {
     "data": {
      "text/plain": [
       "[0, 1, 2, 3, 4]"
      ]
     },
     "execution_count": 49,
     "metadata": {},
     "output_type": "execute_result"
    }
   ],
   "source": [
    "list(range(5))"
   ]
  },
  {
   "cell_type": "code",
   "execution_count": 53,
   "id": "f44cfdd9",
   "metadata": {},
   "outputs": [
    {
     "data": {
      "text/plain": [
       "[1, 2, 3, 4, 5, 6, 7, 8, 9, 10]"
      ]
     },
     "execution_count": 53,
     "metadata": {},
     "output_type": "execute_result"
    }
   ],
   "source": [
    "# 실습 1\n",
    "list(range(1,11))"
   ]
  },
  {
   "cell_type": "code",
   "execution_count": 57,
   "id": "52dbefd7",
   "metadata": {},
   "outputs": [
    {
     "data": {
      "text/plain": [
       "[10, 9, 8, 7, 6, 5, 4, 3, 2, 1]"
      ]
     },
     "execution_count": 57,
     "metadata": {},
     "output_type": "execute_result"
    }
   ],
   "source": [
    "# 실습 2\n",
    "list(range(10, 0, -1))"
   ]
  },
  {
   "cell_type": "code",
   "execution_count": 59,
   "id": "f11ec682",
   "metadata": {},
   "outputs": [
    {
     "data": {
      "text/plain": [
       "[2, 4, 6, 8, 10]"
      ]
     },
     "execution_count": 59,
     "metadata": {},
     "output_type": "execute_result"
    }
   ],
   "source": [
    "# 실습 3\n",
    "even_list = range(2,11,2)\n",
    "list(even_list)"
   ]
  },
  {
   "cell_type": "code",
   "execution_count": 60,
   "id": "b0179567",
   "metadata": {},
   "outputs": [
    {
     "data": {
      "text/plain": [
       "[1, 3, 5, 7, 9]"
      ]
     },
     "execution_count": 60,
     "metadata": {},
     "output_type": "execute_result"
    }
   ],
   "source": [
    "# 실습 4\n",
    "odd_list = range(1,10,2)\n",
    "list(odd_list)"
   ]
  },
  {
   "cell_type": "code",
   "execution_count": 75,
   "id": "2da23cdc",
   "metadata": {},
   "outputs": [
    {
     "name": "stdout",
     "output_type": "stream",
     "text": [
      "[2, 4, 6, 8, 10, 1, 3, 5, 7, 9]\n"
     ]
    }
   ],
   "source": [
    "# 실습 5\n",
    "# + 연산을 위해서 앞과 뒤의 형이 동일해야 한다.\n",
    "all_list = list(even_list) + list(odd_list)\n",
    "print(all_list)"
   ]
  },
  {
   "cell_type": "code",
   "execution_count": null,
   "id": "d694c08d",
   "metadata": {},
   "outputs": [],
   "source": []
  }
 ],
 "metadata": {
  "kernelspec": {
   "display_name": "Python 3 (ipykernel)",
   "language": "python",
   "name": "python3"
  },
  "language_info": {
   "codemirror_mode": {
    "name": "ipython",
    "version": 3
   },
   "file_extension": ".py",
   "mimetype": "text/x-python",
   "name": "python",
   "nbconvert_exporter": "python",
   "pygments_lexer": "ipython3",
   "version": "3.9.12"
  }
 },
 "nbformat": 4,
 "nbformat_minor": 5
}
