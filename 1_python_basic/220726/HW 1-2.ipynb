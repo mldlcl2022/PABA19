{
 "cells": [
  {
   "cell_type": "code",
   "execution_count": 24,
   "id": "f744c2f5",
   "metadata": {},
   "outputs": [],
   "source": [
    "# 문제 4  "
   ]
  },
  {
   "cell_type": "code",
   "execution_count": 48,
   "id": "3e903b98",
   "metadata": {},
   "outputs": [
    {
     "name": "stdout",
     "output_type": "stream",
     "text": [
      "Enter two integers : 8 5\n"
     ]
    }
   ],
   "source": [
    "numbers1 = input('Enter two integers : ')  \n",
    "\n",
    "a, b = map(int, numbers1.split(' '))  "
   ]
  },
  {
   "cell_type": "code",
   "execution_count": 49,
   "id": "6e80dfcd",
   "metadata": {},
   "outputs": [
    {
     "name": "stdout",
     "output_type": "stream",
     "text": [
      "13\n",
      "3\n",
      "40\n",
      "1.6\n",
      "3\n"
     ]
    }
   ],
   "source": [
    "print(a + b)  \n",
    "print(a - b)  \n",
    "print(a * b)  \n",
    "print(a / b)  \n",
    "print(a % b)  "
   ]
  },
  {
   "cell_type": "code",
   "execution_count": 50,
   "id": "ab0b78a6",
   "metadata": {},
   "outputs": [],
   "source": [
    "# 문제 5  "
   ]
  },
  {
   "cell_type": "code",
   "execution_count": 51,
   "id": "53e763e2",
   "metadata": {},
   "outputs": [
    {
     "name": "stdout",
     "output_type": "stream",
     "text": [
      "Enter two integers : 70 91\n"
     ]
    }
   ],
   "source": [
    "numbers2 = input('Enter two integers : ')  \n",
    "\n",
    "c, d = map(int, numbers2.split(' '))  "
   ]
  },
  {
   "cell_type": "code",
   "execution_count": 52,
   "id": "6c12d354",
   "metadata": {},
   "outputs": [
    {
     "name": "stdout",
     "output_type": "stream",
     "text": [
      "sum is 161\n",
      "avg is 80.5\n"
     ]
    }
   ],
   "source": [
    "listcd = c, d\n",
    "\n",
    "print(\"sum is %d\" % sum(listcd))\n",
    "\n",
    "print(\"avg is %.1f\" % (sum(listcd)/len(listcd)))"
   ]
  },
  {
   "cell_type": "code",
   "execution_count": 53,
   "id": "1f79e94c",
   "metadata": {},
   "outputs": [],
   "source": [
    "# 문제 6"
   ]
  },
  {
   "cell_type": "code",
   "execution_count": 55,
   "id": "6d2b1e64",
   "metadata": {},
   "outputs": [
    {
     "name": "stdout",
     "output_type": "stream",
     "text": [
      "날짜(연/월/일) 입력 : 2022/07/27\n",
      "입력한 날짜의 10년 후는 2032년 7월 27일\n"
     ]
    }
   ],
   "source": [
    "# 수업 시간 풀었던 방법\n",
    "date = input(\"날짜(연/월/일) 입력 : \")\n",
    "\n",
    "result = date.split(\"/\")\n",
    "\n",
    "y, m, d = result\n",
    "\n",
    "a = int(result[0]) + 10\n",
    "b = int(result[1])\n",
    "c = int(result[2])\n",
    "\n",
    "print(\"입력한 날짜의 10년 후는 %d년 %s월 %s일\" % (a, b, c))"
   ]
  },
  {
   "cell_type": "code",
   "execution_count": 56,
   "id": "45efe19a",
   "metadata": {},
   "outputs": [
    {
     "name": "stdout",
     "output_type": "stream",
     "text": [
      "날짜(연/월/일) 입력 : 2022/07/27\n",
      "입력한 날짜의 10년 후는 2032년 7월 27일\n"
     ]
    }
   ],
   "source": [
    "# map 활용하여 다시 풀이\n",
    "date = input(\"날짜(연/월/일) 입력 : \")\n",
    "\n",
    "year, month, day = map(int, date.split(\"/\"))\n",
    "\n",
    "print(\"입력한 날짜의 10년 후는 %d년 %d월 %d일\" %(int(year)+10, month, day))"
   ]
  },
  {
   "cell_type": "code",
   "execution_count": null,
   "id": "2cadfc75",
   "metadata": {},
   "outputs": [],
   "source": []
  }
 ],
 "metadata": {
  "kernelspec": {
   "display_name": "Python 3 (ipykernel)",
   "language": "python",
   "name": "python3"
  },
  "language_info": {
   "codemirror_mode": {
    "name": "ipython",
    "version": 3
   },
   "file_extension": ".py",
   "mimetype": "text/x-python",
   "name": "python",
   "nbconvert_exporter": "python",
   "pygments_lexer": "ipython3",
   "version": "3.9.12"
  }
 },
 "nbformat": 4,
 "nbformat_minor": 5
}
