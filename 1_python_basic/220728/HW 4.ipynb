{
 "cells": [
  {
   "cell_type": "code",
   "execution_count": 17,
   "id": "9f1a22f9",
   "metadata": {},
   "outputs": [
    {
     "name": "stdout",
     "output_type": "stream",
     "text": [
      "1\n",
      "9\n",
      "[3, 5, 2]\n"
     ]
    }
   ],
   "source": [
    "# 모듈 - 실습7\n",
    "def get_min_max(l) :\n",
    "    \n",
    "    a, b = 0, 0\n",
    "    \n",
    "    a = min(l)\n",
    "    b = max(l)\n",
    "\n",
    "    if len(l) > 2 :\n",
    "        l.remove(a)\n",
    "        l.remove(b)\n",
    "    \n",
    "    return a, b\n",
    "    \n",
    "l = [3, 5, 9, 1, 2]\n",
    "\n",
    "min_val, max_val = get_min_max(l)\n",
    "\n",
    "print(min_val)\n",
    "print(max_val)\n",
    "print(l)"
   ]
  },
  {
   "cell_type": "code",
   "execution_count": 27,
   "id": "317800db",
   "metadata": {},
   "outputs": [
    {
     "name": "stdout",
     "output_type": "stream",
     "text": [
      "{'a': 3, 'b': 3, 'c': 4, 'd': 7, 'e': 9}\n"
     ]
    }
   ],
   "source": [
    "# 모듈 - 실습8\n",
    "\n",
    "def comb_dict(d1, d2):\n",
    "    for i in d2 :\n",
    "        if i in d1 :\n",
    "            d1[i] += d2[i]\n",
    "        else :\n",
    "            d1[i] = d2[i]\n",
    "    return dict(sorted(d1.items()))\n",
    "    \n",
    "d1 = {'a': 1, 'b': 3, 'd': 7, 'e': 8}\n",
    "d2 = {'a': 2, 'c': 4, 'e': 1}\n",
    "\n",
    "d3 = comb_dict(d1, d2)\n",
    "print(d3)"
   ]
  },
  {
   "cell_type": "code",
   "execution_count": 4,
   "id": "130e2850",
   "metadata": {},
   "outputs": [
    {
     "name": "stdout",
     "output_type": "stream",
     "text": [
      "4\n",
      "300\n"
     ]
    },
    {
     "ename": "TypeError",
     "evalue": "diff() missing 1 required positional argument: 'b'",
     "output_type": "error",
     "traceback": [
      "\u001b[0;31m---------------------------------------------------------------------------\u001b[0m",
      "\u001b[0;31mTypeError\u001b[0m                                 Traceback (most recent call last)",
      "Input \u001b[0;32mIn [4]\u001b[0m, in \u001b[0;36m<cell line: 11>\u001b[0;34m()\u001b[0m\n\u001b[1;32m      9\u001b[0m \u001b[38;5;28mprint\u001b[39m(diff(\u001b[38;5;241m1\u001b[39m,\u001b[38;5;241m2\u001b[39m,\u001b[38;5;241m3\u001b[39m,\u001b[38;5;241m4\u001b[39m,\u001b[38;5;241m5\u001b[39m))\n\u001b[1;32m     10\u001b[0m \u001b[38;5;28mprint\u001b[39m(diff(\u001b[38;5;241m-\u001b[39m\u001b[38;5;241m100\u001b[39m, \u001b[38;5;241m200\u001b[39m))\n\u001b[0;32m---> 11\u001b[0m \u001b[43mdiff\u001b[49m\u001b[43m(\u001b[49m\u001b[38;5;241;43m1\u001b[39;49m\u001b[43m)\u001b[49m\n",
      "\u001b[0;31mTypeError\u001b[0m: diff() missing 1 required positional argument: 'b'"
     ]
    }
   ],
   "source": [
    "# 모듈 - 실습9\n",
    "\n",
    "def diff(a, b, *c) :\n",
    "    for i in (a, b, *c) :\n",
    "        if i == max(a, b, *c) :\n",
    "            r = i\n",
    "        if i == min(a, b, *c) :\n",
    "            v = i\n",
    "    return r - v\n",
    "\n",
    "print(diff(1,2,3,4,5))\n",
    "print(diff(-100, 200))\n",
    "diff(1) # 오류발생!"
   ]
  },
  {
   "cell_type": "code",
   "execution_count": null,
   "id": "5432b3b8",
   "metadata": {},
   "outputs": [],
   "source": []
  }
 ],
 "metadata": {
  "kernelspec": {
   "display_name": "Python 3 (ipykernel)",
   "language": "python",
   "name": "python3"
  },
  "language_info": {
   "codemirror_mode": {
    "name": "ipython",
    "version": 3
   },
   "file_extension": ".py",
   "mimetype": "text/x-python",
   "name": "python",
   "nbconvert_exporter": "python",
   "pygments_lexer": "ipython3",
   "version": "3.9.12"
  }
 },
 "nbformat": 4,
 "nbformat_minor": 5
}
