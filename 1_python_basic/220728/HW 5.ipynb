{
 "cells": [
  {
   "cell_type": "markdown",
   "id": "8f7d557c",
   "metadata": {},
   "source": [
    "# 실습1"
   ]
  },
  {
   "cell_type": "code",
   "execution_count": 47,
   "id": "dfbc3eaa",
   "metadata": {},
   "outputs": [
    {
     "name": "stdout",
     "output_type": "stream",
     "text": [
      "first 1\n",
      "line 3\n",
      "second 1\n",
      "third 1\n"
     ]
    }
   ],
   "source": [
    "f = open(\"new.txt\",\"r\")\n",
    "\n",
    "d = dict()\n",
    "\n",
    "while True :\n",
    "    l = f.readline()\n",
    "    r1 = l.split()\n",
    "    \n",
    "    if l == '' :\n",
    "        break\n",
    "    \n",
    "    for i in r1 :\n",
    "        if i not in d :\n",
    "            d[i] = 1\n",
    "        else :\n",
    "            d[i] += 1\n",
    "\n",
    "for key, value in d.items():\n",
    "    print(key, value)\n",
    "    \n",
    "f.close()"
   ]
  },
  {
   "cell_type": "markdown",
   "id": "6a3cc8ab",
   "metadata": {},
   "source": [
    "# 실습2"
   ]
  },
  {
   "cell_type": "code",
   "execution_count": 48,
   "id": "60373826",
   "metadata": {},
   "outputs": [
    {
     "data": {
      "text/plain": [
       "True"
      ]
     },
     "execution_count": 48,
     "metadata": {},
     "output_type": "execute_result"
    }
   ],
   "source": [
    "import os\n",
    "os.path.exists(\"new.txt\")"
   ]
  },
  {
   "cell_type": "code",
   "execution_count": 49,
   "id": "b3b95c07",
   "metadata": {},
   "outputs": [
    {
     "name": "stdout",
     "output_type": "stream",
     "text": [
      "Enter a file name : new.txt\n",
      "FIRST LINE\n",
      "\n",
      "SECOND LINE\n",
      "\n",
      "THIRD LINE\n"
     ]
    }
   ],
   "source": [
    "fname = input(\"Enter a file name : \")\n",
    "\n",
    "if os.path.exists(fname) :\n",
    "    fb = open(fname,\"r\")\n",
    "    \n",
    "    for i in fb :\n",
    "        print(i.upper())\n",
    "    fb.close()\n",
    "else :\n",
    "    print(\"파일 없음\")"
   ]
  },
  {
   "cell_type": "markdown",
   "id": "d2167ad9",
   "metadata": {},
   "source": [
    "# 실습4"
   ]
  },
  {
   "cell_type": "code",
   "execution_count": 89,
   "id": "8c4b444f",
   "metadata": {},
   "outputs": [],
   "source": [
    "f = open(\"score.txt\",\"r\")\n",
    "f1 = open(\"report.txt\",\"w\")\n",
    "r2 = []\n",
    "\n",
    "while True :\n",
    "    l = f.readline()\n",
    "    r1 = l.split()\n",
    "    \n",
    "    if l == '' :\n",
    "        break\n",
    "    \n",
    "    avg = int(r1[1]) * 0.4 + int(r1[2]) * 0.6\n",
    "    r1.append(avg)\n",
    "    \n",
    "    if avg >= 90 :\n",
    "        grade = \"(A)\"\n",
    "    elif avg >= 80 :\n",
    "        grade = \"(B)\"\n",
    "    elif avg >= 70 :\n",
    "        grade = \"(C)\"\n",
    "    elif avg >= 60 :\n",
    "        grade = \"(D)\"\n",
    "    else :\n",
    "        grade = \"(F)\"\n",
    "\n",
    "    r1[3] = str(avg) + grade\n",
    "    for i in range(len(r1)) :\n",
    "        data = r1[i] + ' '\n",
    "        f1.write(data)\n",
    "    f1.write('\\n')\n",
    "\n",
    "f.close()\n",
    "f1.close()"
   ]
  },
  {
   "cell_type": "code",
   "execution_count": null,
   "id": "3b5ae09f",
   "metadata": {},
   "outputs": [],
   "source": []
  }
 ],
 "metadata": {
  "kernelspec": {
   "display_name": "Python 3 (ipykernel)",
   "language": "python",
   "name": "python3"
  },
  "language_info": {
   "codemirror_mode": {
    "name": "ipython",
    "version": 3
   },
   "file_extension": ".py",
   "mimetype": "text/x-python",
   "name": "python",
   "nbconvert_exporter": "python",
   "pygments_lexer": "ipython3",
   "version": "3.9.12"
  }
 },
 "nbformat": 4,
 "nbformat_minor": 5
}
